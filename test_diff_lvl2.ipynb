{
 "cells": [
  {
   "attachments": {},
   "cell_type": "markdown",
   "metadata": {},
   "source": [
    "# Diffusion Music Generation Level 2"
   ]
  },
  {
   "attachments": {},
   "cell_type": "markdown",
   "metadata": {},
   "source": [
    "### imports"
   ]
  },
  {
   "cell_type": "code",
   "execution_count": null,
   "metadata": {},
   "outputs": [],
   "source": [
    "import IPython\n",
    "\n",
    "import torch\n",
    "from torch.utils.data import DataLoader\n",
    "import yaml\n",
    "import matplotlib.pyplot as plt\n",
    "import torchaudio\n",
    "\n",
    "from models.multi_level_vqvae import MultiLvlVQVariationalAutoEncoder\n",
    "from models.diffusion_vit import DiffusionViTSongCond\n",
    "from models.diffusion_unet import WaveNetDiffusion\n",
    "from models.transformer_vqvae import TransformerVQVAE\n",
    "from loaders.latent_loaders import Lvl2InputDataset, Lvl3InputDataset\n",
    "from utils.other import load_cfg_dict"
   ]
  },
  {
   "attachments": {},
   "cell_type": "markdown",
   "metadata": {},
   "source": [
    "### Load configuration files and add weight paths"
   ]
  },
  {
   "cell_type": "code",
   "execution_count": null,
   "metadata": {},
   "outputs": [],
   "source": [
    "# Level 1\n",
    "config_path_lvl1 = \"config/lvl1_config.yaml\"\n",
    "weights_path_lvl1 = \"model_weights/lvl1_vqvae.ckpt\"\n",
    "cfg_1 = load_cfg_dict(config_path_lvl1)\n",
    "\n",
    "config_path_diff_lvl1 = \"config/diff_lvl1_config.yaml\"\n",
    "weights_path_diff_lvl1 = \"model_weights/lvl1_diff.ckpt\"\n",
    "cfg_diff_1 = load_cfg_dict(config_path_diff_lvl1)\n",
    "\n",
    "# Level 2\n",
    "config_path_lvl2 = \"config/lvl2_config.yaml\"\n",
    "weights_path_lvl2 = \"model_weights/lvl2_vqvae.ckpt\"\n",
    "cfg_2 = load_cfg_dict(config_path_lvl2)\n",
    "\n",
    "config_path_diff_lvl2 = \"config/diff_lvl2_config.yaml\"\n",
    "weights_path_diff_lvl2 = \"model_weights/lvl2_diff.ckpt\"\n",
    "cfg_diff_2 = load_cfg_dict(config_path_diff_lvl2)\n",
    "\n",
    "device = 'cuda' if torch.cuda.is_available() else 'cpu'"
   ]
  },
  {
   "attachments": {},
   "cell_type": "markdown",
   "metadata": {},
   "source": [
    "### Load the models"
   ]
  },
  {
   "cell_type": "code",
   "execution_count": null,
   "metadata": {},
   "outputs": [],
   "source": [
    "# Level 1\n",
    "model_vqvae_lvl1 = MultiLvlVQVariationalAutoEncoder.load_from_checkpoint(weights_path_lvl1, **cfg_1, strict=False).to(device=device)\n",
    "model_vqvae_lvl1.eval()\n",
    "\n",
    "model_diffusion_lvl1 = DiffusionViTSongCond.load_from_checkpoint(weights_path_diff_lvl1, **cfg_diff_1, strict=False).to(device=device)\n",
    "model_diffusion_lvl1.eval()\n",
    "\n",
    "# Level 2\n",
    "model_vqvae_lvl2 = MultiLvlVQVariationalAutoEncoder.load_from_checkpoint(weights_path_lvl2, **cfg_2, strict=False).to(device=device)\n",
    "model_vqvae_lvl2.eval()\n",
    "\n",
    "model_diffusion_lvl2 = DiffusionViTSongCond.load_from_checkpoint(weights_path_diff_lvl2, **cfg_diff_2, strict=False).to(device=device)\n",
    "model_diffusion_lvl2.eval()"
   ]
  },
  {
   "attachments": {},
   "cell_type": "markdown",
   "metadata": {},
   "source": [
    "### Define the player"
   ]
  },
  {
   "cell_type": "code",
   "execution_count": null,
   "metadata": {},
   "outputs": [],
   "source": [
    "# this is a wrapper that take a filename and publish an html <audio> tag to listen to it\n",
    "\n",
    "def wavPlayer(filepath):\n",
    "    \"\"\" will display html 5 player for compatible browser\n",
    "\n",
    "    Parameters :\n",
    "    ------------\n",
    "    filepath : relative filepath with respect to the notebook directory ( where the .ipynb are not cwd)\n",
    "               of the file to play\n",
    "\n",
    "    The browser need to know how to play wav through html5.\n",
    "\n",
    "    there is no autoplay to prevent file playing when the browser opens\n",
    "    \"\"\"\n",
    "    \n",
    "    src = \"\"\"\n",
    "    <head>\n",
    "    <meta http-equiv=\"Content-Type\" content=\"text/html; charset=utf-8\">\n",
    "    <title>Simple Test</title>\n",
    "    </head>\n",
    "    \n",
    "    <body>\n",
    "    <audio controls=\"controls\" style=\"width:600px\" >\n",
    "      <source src=\"files/%s\" type=\"audio/mp3\" />\n",
    "      Your browser does not support the audio element.\n",
    "    </audio>\n",
    "    </body>\n",
    "    \"\"\"%(filepath)\n",
    "    display(HTML(src))"
   ]
  },
  {
   "attachments": {},
   "cell_type": "markdown",
   "metadata": {},
   "source": [
    "## Load the diffusion dataset and display the latents"
   ]
  },
  {
   "cell_type": "code",
   "execution_count": null,
   "metadata": {},
   "outputs": [],
   "source": [
    "dataset = Lvl3InputDataset(preload=True, **cfg_diff_2)\n",
    "dataloader = DataLoader(dataset, batch_size=1, shuffle=True)\n",
    "\n",
    "for sample in dataloader:\n",
    "    lvl3_sample = sample['music slice'].squeeze(0)\n",
    "    print(f\"Current track is {sample['track name'][0]}\")\n",
    "    break\n",
    "\n",
    "plt.figure(figsize=(25, 5))\n",
    "plt.matshow(lvl3_sample.cpu().detach().numpy(), fignum=1, aspect='auto', vmin=-5, vmax=5.0)\n",
    "plt.colorbar()\n",
    "plt.axis('off')\n",
    "plt.show()"
   ]
  },
  {
   "attachments": {},
   "cell_type": "markdown",
   "metadata": {},
   "source": [
    "## Run diffusion model level 2"
   ]
  },
  {
   "cell_type": "code",
   "execution_count": null,
   "metadata": {},
   "outputs": [],
   "source": [
    "random_noise_start = torch.randn_like(lvl3_sample)\n",
    "lvl2_latent_gen = model_diffusion_lvl2.denoise(lvl3_sample.unsqueeze(0).to(device), show_process_plots=False).squeeze(0)\n",
    "\n",
    "plt.figure(figsize=(25, 5))\n",
    "plt.matshow(lvl2_latent_gen.cpu().detach().numpy(), fignum=1, aspect='auto', vmin=-5, vmax=5.0)\n",
    "plt.colorbar()\n",
    "plt.axis('off')\n",
    "plt.show()"
   ]
  },
  {
   "attachments": {},
   "cell_type": "markdown",
   "metadata": {},
   "source": [
    "## Generate level 1 latent"
   ]
  },
  {
   "cell_type": "code",
   "execution_count": null,
   "metadata": {},
   "outputs": [],
   "source": [
    "with torch.no_grad():\n",
    "    lvl1_latent, _ = model_vqvae_lvl2.decode(lvl3_sample.unsqueeze(0).to(device))\n",
    "plt.figure(figsize=(25, 5))\n",
    "plt.matshow(lvl1_latent[:, :].squeeze(0).cpu().detach().numpy(), fignum=1, aspect='auto', vmin=-5, vmax=5.0)\n",
    "plt.colorbar()\n",
    "plt.axis('off')\n",
    "plt.show()"
   ]
  },
  {
   "attachments": {},
   "cell_type": "markdown",
   "metadata": {},
   "source": [
    "## Run VQVAE decoding level 1"
   ]
  },
  {
   "cell_type": "code",
   "execution_count": null,
   "metadata": {},
   "outputs": [],
   "source": [
    "from torch.utils.data import TensorDataset\n",
    "\n",
    "batch_size = 4\n",
    "batch_divide = 8\n",
    "\n",
    "with torch.no_grad():\n",
    "    \n",
    "    lvl3_sample *= 0.0\n",
    "    lvl3_sample += torch.randn_like(lvl3_sample) * 1.5\n",
    "    \n",
    "    plt.figure(figsize=(25, 5))\n",
    "    plt.matshow(lvl3_sample[:, :].squeeze(0).cpu().detach().numpy(), fignum=1, aspect='auto', vmin=-5, vmax=5.0)\n",
    "    plt.colorbar()\n",
    "    plt.axis('off')\n",
    "    plt.show()\n",
    "\n",
    "    \n",
    "    output_lvl1 = torch.zeros([1, cfg_1['input_channels'], 0]).to(device=device)\n",
    "\n",
    "    diff_lvl3_sample = model_diffusion_lvl2.denoise(lvl3_sample.unsqueeze(0).to(device))\n",
    "\n",
    "    output_lvl2, _ = model_vqvae_lvl2.decode(diff_lvl3_sample)\n",
    "    output_lvl2 = output_lvl2.permute((0, 2, 1)).reshape((batch_divide, -1, cfg_1['latent_depth'])).permute((0, 2, 1))\n",
    "    \n",
    "    lvl2_dataset = TensorDataset(output_lvl2)\n",
    "    lvl2_dataloader = DataLoader(lvl2_dataset, batch_size=batch_size)\n",
    "    \n",
    "    for lvl2_ind_sample in lvl2_dataloader:\n",
    "        \n",
    "        # diff_lvl2_sample = model_diffusion_lvl1.denoise(lvl2_ind_sample[0].to(device))\n",
    "        diff_lvl2_sample = lvl2_ind_sample[0].to(device)\n",
    "        \n",
    "        output_lvl1_ind, _ = model_vqvae_lvl1.decode(diff_lvl2_sample)\n",
    "        output_lvl1_ind = output_lvl1_ind.permute((0, 2, 1)).reshape((1, -1, 1)).permute((0, 2, 1))\n",
    "        output_lvl1 = torch.cat((output_lvl1, output_lvl1_ind), dim=2)\n",
    "            \n",
    "music_sample_rec = output_lvl1.view((1, -1))\n",
    "plt.figure(figsize=(25, 5))\n",
    "plt.plot(music_sample_rec[0, ...].cpu().detach().numpy())\n",
    "plt.ylim((-1.1, 1.1))\n",
    "plt.show()\n",
    "torchaudio.save('sample_out.mp3', music_sample_rec.cpu().detach(), 44100, format='mp3')\n",
    "IPython.display.Audio(filename=\"sample_out.mp3\")"
   ]
  }
 ],
 "metadata": {
  "kernelspec": {
   "display_name": "VovaTch",
   "language": "python",
   "name": "python3"
  },
  "language_info": {
   "codemirror_mode": {
    "name": "ipython",
    "version": 3
   },
   "file_extension": ".py",
   "mimetype": "text/x-python",
   "name": "python",
   "nbconvert_exporter": "python",
   "pygments_lexer": "ipython3",
   "version": "3.9.7"
  },
  "orig_nbformat": 4
 },
 "nbformat": 4,
 "nbformat_minor": 2
}

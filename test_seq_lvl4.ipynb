{
 "cells": [
  {
   "cell_type": "markdown",
   "metadata": {},
   "source": [
    "# Level 4 sequence generation"
   ]
  },
  {
   "cell_type": "code",
   "execution_count": null,
   "metadata": {},
   "outputs": [],
   "source": [
    "import IPython\n",
    "import copy\n",
    "\n",
    "import torch\n",
    "from torch.utils.data import DataLoader\n",
    "import yaml\n",
    "import matplotlib.pyplot as plt\n",
    "import torchaudio\n",
    "\n",
    "from models.multi_level_vqvae import MultiLvlVQVariationalAutoEncoder\n",
    "from models.infected_lm import TransformerAutoregressor\n",
    "from loaders.latent_loaders import Lvl5InputDataset\n",
    "from utils.other import load_cfg_dict"
   ]
  },
  {
   "cell_type": "markdown",
   "metadata": {},
   "source": [
    "### Load configuration files and weights"
   ]
  },
  {
   "cell_type": "code",
   "execution_count": null,
   "metadata": {},
   "outputs": [],
   "source": [
    "config_path_lvl1 = \"config/lvl1_config.yaml\"\n",
    "weights_path_lvl1 = \"model_weights/lvl1_vqvae.ckpt\"\n",
    "cfg_1 = load_cfg_dict(config_path_lvl1)\n",
    "\n",
    "config_path_lvl2 = \"config/lvl2_config.yaml\"\n",
    "weights_path_lvl2 = \"model_weights/lvl2_vqvae.ckpt\"\n",
    "cfg_2 = load_cfg_dict(config_path_lvl2)\n",
    "\n",
    "config_path_lvl3 = \"config/lvl3_config.yaml\"\n",
    "weights_path_lvl3 = \"model_weights/lvl3_vqvae.ckpt\"\n",
    "cfg_3 = load_cfg_dict(config_path_lvl3)\n",
    "\n",
    "config_path_lvl4 = \"config/lvl4_config.yaml\"\n",
    "weights_path_lvl4 = \"model_weights/lvl4_vqvae.ckpt\"\n",
    "cfg_4 = load_cfg_dict(config_path_lvl4)\n",
    "\n",
    "config_path_diff_lvl5 = \"config/diff_lvl4_config.yaml\"\n",
    "cfg_diff_5 = load_cfg_dict(config_path_diff_lvl5)\n",
    "\n",
    "config_path_seq_lvl4 = \"config/seq_lvl4_config.yaml\"\n",
    "weights_path_lvl4_seq = \"model_weights/lvl4_seq.ckpt\"\n",
    "cfg_seq_4 = load_cfg_dict(config_path_seq_lvl4)\n",
    "\n",
    "device = 'cuda' if torch.cuda.is_available() else 'cpu'"
   ]
  },
  {
   "cell_type": "markdown",
   "metadata": {},
   "source": [
    "## Load the models"
   ]
  },
  {
   "cell_type": "code",
   "execution_count": null,
   "metadata": {},
   "outputs": [],
   "source": [
    "model_lvl1 = MultiLvlVQVariationalAutoEncoder.load_from_checkpoint(weights_path_lvl1, **cfg_1, strict=False).to(device)\n",
    "model_lvl1.eval()\n",
    "\n",
    "model_lvl2 = MultiLvlVQVariationalAutoEncoder.load_from_checkpoint(weights_path_lvl2, **cfg_2, strict=False).to(device)\n",
    "model_lvl2.eval()\n",
    "\n",
    "model_lvl3 = MultiLvlVQVariationalAutoEncoder.load_from_checkpoint(weights_path_lvl3, **cfg_3, strict=False).to(device)\n",
    "model_lvl3.eval()\n",
    "\n",
    "model_lvl4 = MultiLvlVQVariationalAutoEncoder.load_from_checkpoint(weights_path_lvl4, **cfg_4, strict=False).to(device)\n",
    "model_lvl4.eval()\n",
    "\n",
    "model_seq_lvl4 = TransformerAutoregressor.load_from_checkpoint(weights_path_lvl4_seq, **cfg_seq_4, \n",
    "                                                               codebook = model_lvl4.vq_module.vq_codebook, strict=False).to(device)\n",
    "model_seq_lvl4.eval()"
   ]
  },
  {
   "cell_type": "markdown",
   "metadata": {},
   "source": [
    "### HTML wrapper to display sound clips"
   ]
  },
  {
   "cell_type": "code",
   "execution_count": null,
   "metadata": {},
   "outputs": [],
   "source": [
    "# this is a wrapper that take a filename and publish an html <audio> tag to listen to it\n",
    "\n",
    "def wavPlayer(filepath):\n",
    "    \"\"\" will display html 5 player for compatible browser\n",
    "\n",
    "    Parameters :\n",
    "    ------------\n",
    "    filepath : relative filepath with respect to the notebook directory ( where the .ipynb are not cwd)\n",
    "               of the file to play\n",
    "\n",
    "    The browser need to know how to play wav through html5.\n",
    "\n",
    "    there is no autoplay to prevent file playing when the browser opens\n",
    "    \"\"\"\n",
    "    \n",
    "    src = \"\"\"\n",
    "    <head>\n",
    "    <meta http-equiv=\"Content-Type\" content=\"text/html; charset=utf-8\">\n",
    "    <title>Simple Test</title>\n",
    "    </head>\n",
    "    \n",
    "    <body>\n",
    "    <audio controls=\"controls\" style=\"width:600px\" >\n",
    "      <source src=\"files/%s\" type=\"audio/mp3\" />\n",
    "      Your browser does not support the audio element.\n",
    "    </audio>\n",
    "    </body>\n",
    "    \"\"\"%(filepath)\n",
    "    display(HTML(src))"
   ]
  },
  {
   "cell_type": "markdown",
   "metadata": {},
   "source": [
    "# Load a dataset and display it\n",
    "\n",
    "### Load the slice"
   ]
  },
  {
   "cell_type": "code",
   "execution_count": null,
   "metadata": {},
   "outputs": [],
   "source": [
    "dataset = Lvl5InputDataset(preload=True, **cfg_diff_5)\n",
    "dataloader = DataLoader(dataset, batch_size=1, shuffle=True)\n",
    "for sample in dataloader:\n",
    "    lvl4_latent = sample['music slice'].squeeze(0)\n",
    "    print(f\"Current track is {sample['track name'][0]}\")\n",
    "    break\n",
    "\n",
    "plt.figure(figsize=(25, 5))\n",
    "plt.matshow(lvl4_latent.cpu().detach().numpy(), fignum=1, aspect='auto', vmin=-0.5, vmax=2.0)\n",
    "plt.colorbar()\n",
    "plt.axis('off')\n",
    "plt.show()"
   ]
  }
 ],
 "metadata": {
  "kernelspec": {
   "display_name": "VovaTch",
   "language": "python",
   "name": "python3"
  },
  "language_info": {
   "name": "python",
   "version": "3.9.7"
  },
  "orig_nbformat": 4
 },
 "nbformat": 4,
 "nbformat_minor": 2
}

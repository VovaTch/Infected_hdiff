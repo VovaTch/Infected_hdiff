{
 "cells": [
  {
   "attachments": {},
   "cell_type": "markdown",
   "metadata": {},
   "source": [
    "# Level 2 VQ-VAE Run Script"
   ]
  },
  {
   "attachments": {},
   "cell_type": "markdown",
   "metadata": {},
   "source": [
    "## Import a bunch of libraries"
   ]
  },
  {
   "cell_type": "code",
   "execution_count": null,
   "metadata": {},
   "outputs": [],
   "source": [
    "import IPython\n",
    "\n",
    "import torch\n",
    "from torch.utils.data import DataLoader\n",
    "import yaml\n",
    "import matplotlib.pyplot as plt\n",
    "import torchaudio\n",
    "\n",
    "from models.multi_level_vqvae import MultiLvlVQVariationalAutoEncoder\n",
    "from loaders.music_loader import MP3SliceDataset\n",
    "from loaders.lvl2_loader import Lvl2InputDataset\n",
    "from utils.other import load_cfg_dict"
   ]
  },
  {
   "attachments": {},
   "cell_type": "markdown",
   "metadata": {},
   "source": [
    "## Load configuration file and add weights path"
   ]
  },
  {
   "cell_type": "code",
   "execution_count": null,
   "metadata": {},
   "outputs": [],
   "source": [
    "config_path_lvl1 = \"config/lvl1_config.yaml\"\n",
    "weights_path_lvl1 = \"model_weights/lvl1_vqvae.ckpt\"\n",
    "#weights_path = \"model_best.ckpt\"\n",
    "cfg_1 = load_cfg_dict(config_path_lvl1)\n",
    "\n",
    "config_path_lvl2 = \"config/lvl2_config.yaml\"\n",
    "weights_path_lvl2 = \"model_weights/lvl2_vqvae.ckpt\"\n",
    "#weights_path = \"model_best.ckpt\"\n",
    "cfg_2 = load_cfg_dict(config_path_lvl2)\n",
    "device = 'cuda' if torch.cuda.is_available() else 'cpu'"
   ]
  },
  {
   "attachments": {},
   "cell_type": "markdown",
   "metadata": {},
   "source": [
    "## Define Mel Spectrogram"
   ]
  },
  {
   "cell_type": "code",
   "execution_count": null,
   "metadata": {},
   "outputs": [],
   "source": [
    "mel_spec_new = torchaudio.transforms.MelSpectrogram(n_fft=512, hop_length=128, n_mels=128, \n",
    "                                                    pad_mode='reflect', power=1.0, norm= \"slaney\", mel_scale= \"htk\").to(device)"
   ]
  },
  {
   "attachments": {},
   "cell_type": "markdown",
   "metadata": {},
   "source": [
    "## Load the models"
   ]
  },
  {
   "cell_type": "code",
   "execution_count": null,
   "metadata": {},
   "outputs": [],
   "source": [
    "model_lvl1 = MultiLvlVQVariationalAutoEncoder(**cfg_1).to(device)\n",
    "model_lvl1 = model_lvl1.load_from_checkpoint(weights_path_lvl1, **cfg_1, strict=False).to(device)\n",
    "model_lvl1.eval()\n",
    "\n",
    "model_lvl2 = MultiLvlVQVariationalAutoEncoder(**cfg_2).to(device)\n",
    "#model_lvl2 = model_lvl1.load_from_checkpoint(weights_path_lvl2, **cfg_2, strict=False).to(device)\n",
    "model_lvl2.eval()"
   ]
  },
  {
   "attachments": {},
   "cell_type": "markdown",
   "metadata": {},
   "source": [
    "### HTML wrapper to display sound clips:"
   ]
  },
  {
   "cell_type": "code",
   "execution_count": null,
   "metadata": {},
   "outputs": [],
   "source": [
    "# this is a wrapper that take a filename and publish an html <audio> tag to listen to it\n",
    "\n",
    "def wavPlayer(filepath):\n",
    "    \"\"\" will display html 5 player for compatible browser\n",
    "\n",
    "    Parameters :\n",
    "    ------------\n",
    "    filepath : relative filepath with respect to the notebook directory ( where the .ipynb are not cwd)\n",
    "               of the file to play\n",
    "\n",
    "    The browser need to know how to play wav through html5.\n",
    "\n",
    "    there is no autoplay to prevent file playing when the browser opens\n",
    "    \"\"\"\n",
    "    \n",
    "    src = \"\"\"\n",
    "    <head>\n",
    "    <meta http-equiv=\"Content-Type\" content=\"text/html; charset=utf-8\">\n",
    "    <title>Simple Test</title>\n",
    "    </head>\n",
    "    \n",
    "    <body>\n",
    "    <audio controls=\"controls\" style=\"width:600px\" >\n",
    "      <source src=\"files/%s\" type=\"audio/mp3\" />\n",
    "      Your browser does not support the audio element.\n",
    "    </audio>\n",
    "    </body>\n",
    "    \"\"\"%(filepath)\n",
    "    display(HTML(src))"
   ]
  },
  {
   "attachments": {},
   "cell_type": "markdown",
   "metadata": {},
   "source": [
    "## Load a dataset sample and display it."
   ]
  },
  {
   "attachments": {},
   "cell_type": "markdown",
   "metadata": {},
   "source": [
    "### Create a mel weight matrix"
   ]
  },
  {
   "cell_type": "code",
   "execution_count": null,
   "metadata": {},
   "outputs": [],
   "source": [
    "lin_vector = torch.linspace(0.1, 5, 128)\n",
    "eye_mat = torch.diag(lin_vector).to(device)"
   ]
  },
  {
   "attachments": {},
   "cell_type": "markdown",
   "metadata": {},
   "source": [
    "### Load the slice"
   ]
  },
  {
   "cell_type": "code",
   "execution_count": null,
   "metadata": {},
   "outputs": [],
   "source": [
    "dataset = Lvl2InputDataset(preload=True)\n",
    "dataloader = DataLoader(dataset, batch_size=1, shuffle=True)\n",
    "for sample in dataloader:\n",
    "    lvl2_sample = sample['music slice'].squeeze(0)\n",
    "    print(f\"Current track is {sample['track name'][0]}\")\n",
    "    break\n",
    "plt.figure(figsize=(25, 5))\n",
    "plt.matshow(lvl2_sample.cpu().detach().numpy(), fignum=1, aspect='auto', vmin=-0.5, vmax=2.0)\n",
    "plt.colorbar()\n",
    "plt.axis('off')\n",
    "plt.show()"
   ]
  },
  {
   "attachments": {},
   "cell_type": "markdown",
   "metadata": {},
   "source": [
    "## Run the lvl 2 network and show results"
   ]
  },
  {
   "cell_type": "code",
   "execution_count": null,
   "metadata": {},
   "outputs": [],
   "source": [
    "lvl2_output = model_lvl2(lvl2_sample.clone().unsqueeze(0).to(device), extract_losses=False)\n",
    "with torch.no_grad():\n",
    "    lvl1_pred = lvl2_output['output'][0]\n",
    "plt.figure(figsize=(25, 5))\n",
    "plt.matshow(lvl1_pred.cpu().detach().numpy(), fignum=1, aspect='auto', vmin=-0.5, vmax=2.0)\n",
    "plt.colorbar()\n",
    "plt.axis('off')\n",
    "plt.show()\n",
    "print(lvl1_pred.size(), lvl2_sample.size())"
   ]
  },
  {
   "attachments": {},
   "cell_type": "markdown",
   "metadata": {},
   "source": [
    "## Show the subtraction between the ground truth and the reconstruction"
   ]
  },
  {
   "cell_type": "code",
   "execution_count": null,
   "metadata": {},
   "outputs": [],
   "source": [
    "plt.figure(figsize=(25, 5))\n",
    "plt.matshow(torch.abs(lvl2_sample.cpu() - lvl1_pred.cpu()).detach().numpy(), fignum=1, aspect='auto', vmin=0, vmax=2.0)\n",
    "plt.colorbar()\n",
    "plt.axis('off')\n",
    "plt.show()"
   ]
  },
  {
   "attachments": {},
   "cell_type": "markdown",
   "metadata": {},
   "source": [
    "## Pass the level 2 outputs through the level 1 decoder and make MUSIC!"
   ]
  },
  {
   "attachments": {},
   "cell_type": "markdown",
   "metadata": {},
   "source": [
    "### Sanity Check, reconstruction of the lvl1 data"
   ]
  },
  {
   "cell_type": "code",
   "execution_count": null,
   "metadata": {},
   "outputs": [],
   "source": [
    "# vq_input = torch.zeros((8, 8, 512)).to(device)\n",
    "# for idx in range(8):\n",
    "#     vq_input[idx, :, :] = lvl2_sample[:, idx * 512: (idx + 1) * 512]\n",
    "\n",
    "with torch.no_grad():\n",
    "    # z_q_out = vq_input\n",
    "    z_q_out = model_lvl1.vq_module(lvl2_sample.unsqueeze(0).to(device))['v_q']\n",
    "    output = model_lvl1.decoder(z_q_out)\n",
    "    \n",
    "music_sample_rec = output.view((1, -1))\n",
    "plt.figure(figsize=(25, 5))\n",
    "plt.plot(music_sample_rec[0, ...].cpu().detach().numpy())\n",
    "plt.ylim((-1.1, 1.1))\n",
    "plt.show()\n",
    "torchaudio.save('sample_out.mp3', music_sample_rec.cpu().detach(), 44100, format='mp3')\n",
    "IPython.display.Audio(filename=\"sample_out.mp3\")"
   ]
  },
  {
   "attachments": {},
   "cell_type": "markdown",
   "metadata": {},
   "source": [
    "### CREATE *MUSIC*!!!"
   ]
  },
  {
   "cell_type": "code",
   "execution_count": null,
   "metadata": {},
   "outputs": [],
   "source": [
    "with torch.no_grad():\n",
    "    # z_q_out = vq_input\n",
    "    z_q_out = model_lvl1.vq_module(lvl1_pred.unsqueeze(0).to(device))['v_q']\n",
    "    output = model_lvl1.decoder(z_q_out)\n",
    "    \n",
    "music_sample_rec = output.view((1, -1))\n",
    "plt.figure(figsize=(25, 5))\n",
    "plt.plot(music_sample_rec[0, ...].cpu().detach().numpy())\n",
    "plt.ylim((-1.1, 1.1))\n",
    "plt.show()\n",
    "torchaudio.save('sample_out.mp3', music_sample_rec.cpu().detach(), 44100, format='mp3')\n",
    "IPython.display.Audio(filename=\"sample_out.mp3\")"
   ]
  }
 ],
 "metadata": {
  "kernelspec": {
   "display_name": "IDHF",
   "language": "python",
   "name": "python3"
  },
  "language_info": {
   "codemirror_mode": {
    "name": "ipython",
    "version": 3
   },
   "file_extension": ".py",
   "mimetype": "text/x-python",
   "name": "python",
   "nbconvert_exporter": "python",
   "pygments_lexer": "ipython3",
   "version": "3.9.16"
  },
  "orig_nbformat": 4,
  "vscode": {
   "interpreter": {
    "hash": "3e3d16b6134dad0a13017242915c77c5257566eeb2f9ce474651e437cc7a56aa"
   }
  }
 },
 "nbformat": 4,
 "nbformat_minor": 2
}

{
 "cells": [
  {
   "attachments": {},
   "cell_type": "markdown",
   "metadata": {},
   "source": [
    "# Level 1 VQ-VAE Run Script\n",
    "\n",
    "## Import a bunch of libraries"
   ]
  },
  {
   "cell_type": "code",
   "execution_count": null,
   "metadata": {},
   "outputs": [],
   "source": [
    "import torch\n",
    "import pytorch_lightning as pl\n",
    "import yaml"
   ]
  },
  {
   "attachments": {},
   "cell_type": "markdown",
   "metadata": {},
   "source": [
    "## Load configuration file and add the weights path"
   ]
  },
  {
   "cell_type": "code",
   "execution_count": null,
   "metadata": {},
   "outputs": [],
   "source": [
    "config_path = \"config/lvl1_config.yaml\"\n",
    "weights_path = \"model_weights/lvl1_vqvae.ckpt\"\n",
    "with open(config_path, \"r\") as f:\n",
    "    cfg_dict = yaml.safe_load(f)\n",
    "cfg = {**cfg_dict['model'], **cfg_dict['training']}"
   ]
  }
 ],
 "metadata": {
  "language_info": {
   "name": "python"
  },
  "orig_nbformat": 4
 },
 "nbformat": 4,
 "nbformat_minor": 2
}

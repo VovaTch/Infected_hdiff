{
 "cells": [
  {
   "attachments": {},
   "cell_type": "markdown",
   "metadata": {},
   "source": [
    "# Level 1 VQ-VAE Run Script\n",
    "\n",
    "## Import a bunch of libraries"
   ]
  },
  {
   "cell_type": "code",
   "execution_count": null,
   "metadata": {},
   "outputs": [],
   "source": [
    "import IPython\n",
    "\n",
    "import torch\n",
    "from torch.utils.data import DataLoader\n",
    "import yaml\n",
    "import matplotlib.pyplot as plt\n",
    "import torchaudio\n",
    "\n",
    "from models.multi_level_vqvae import MultiLvlVQVariationalAutoEncoder\n",
    "from models.transformer_vqvae import TransformerVQVAE\n",
    "from loaders.music_loader import MP3SliceDataset\n",
    "from utils.other import load_cfg_dict"
   ]
  },
  {
   "attachments": {},
   "cell_type": "markdown",
   "metadata": {},
   "source": [
    "## Load configuration file and add the weights path"
   ]
  },
  {
   "cell_type": "code",
   "execution_count": null,
   "metadata": {},
   "outputs": [],
   "source": [
    "config_path = \"config/lvl1_config.yaml\"\n",
    "#weights_path = \"model_weights/lvl1_vqvae.ckpt\"\n",
    "weights_path = \"model_best.ckpt\"\n",
    "cfg = load_cfg_dict(config_path)\n",
    "device = 'cuda' if torch.cuda.is_available() else 'cpu'"
   ]
  },
  {
   "attachments": {},
   "cell_type": "markdown",
   "metadata": {},
   "source": [
    "## Define Mel Spectrogram, and other spectrograms"
   ]
  },
  {
   "cell_type": "code",
   "execution_count": null,
   "metadata": {},
   "outputs": [],
   "source": [
    "n_mels = 256\n",
    "mel_spec_new = torchaudio.transforms.MelSpectrogram(n_fft=2048, hop_length=128, n_mels=n_mels, f_min=20,\n",
    "                                                    pad_mode='reflect', power=1.0, norm= \"slaney\", mel_scale= \"htk\").to(device)\n"
   ]
  },
  {
   "attachments": {},
   "cell_type": "markdown",
   "metadata": {},
   "source": [
    "## Load the model"
   ]
  },
  {
   "cell_type": "code",
   "execution_count": null,
   "metadata": {},
   "outputs": [],
   "source": [
    "model = MultiLvlVQVariationalAutoEncoder(**cfg)\n",
    "model = model.load_from_checkpoint(weights_path, **cfg, strict=False).to(device=device)\n",
    "model.eval()"
   ]
  },
  {
   "cell_type": "code",
   "execution_count": null,
   "metadata": {},
   "outputs": [],
   "source": [
    "# this is a wrapper that take a filename and publish an html <audio> tag to listen to it\n",
    "\n",
    "def wavPlayer(filepath):\n",
    "    \"\"\" will display html 5 player for compatible browser\n",
    "\n",
    "    Parameters :\n",
    "    ------------\n",
    "    filepath : relative filepath with respect to the notebook directory ( where the .ipynb are not cwd)\n",
    "               of the file to play\n",
    "\n",
    "    The browser need to know how to play wav through html5.\n",
    "\n",
    "    there is no autoplay to prevent file playing when the browser opens\n",
    "    \"\"\"\n",
    "    \n",
    "    src = \"\"\"\n",
    "    <head>\n",
    "    <meta http-equiv=\"Content-Type\" content=\"text/html; charset=utf-8\">\n",
    "    <title>Simple Test</title>\n",
    "    </head>\n",
    "    \n",
    "    <body>\n",
    "    <audio controls=\"controls\" style=\"width:600px\" >\n",
    "      <source src=\"files/%s\" type=\"audio/mp3\" />\n",
    "      Your browser does not support the audio element.\n",
    "    </audio>\n",
    "    </body>\n",
    "    \"\"\"%(filepath)\n",
    "    display(HTML(src))"
   ]
  },
  {
   "attachments": {},
   "cell_type": "markdown",
   "metadata": {},
   "source": [
    "## Load a dataset sample and display it"
   ]
  },
  {
   "attachments": {},
   "cell_type": "markdown",
   "metadata": {},
   "source": [
    "## Create a weight matrix"
   ]
  },
  {
   "cell_type": "code",
   "execution_count": null,
   "metadata": {},
   "outputs": [],
   "source": [
    "lin_vector = torch.linspace(0.5, 2, n_mels)\n",
    "eye_mat = torch.diag(lin_vector).to(device)"
   ]
  },
  {
   "cell_type": "code",
   "execution_count": null,
   "metadata": {},
   "outputs": [],
   "source": [
    "dataset = MP3SliceDataset(preload=True, preload_data_file_path='data/music_samples/000-datatensor.pt',\n",
    "                          preload_metadata_file_path='data/music_samples/000-metadata.pkl')\n",
    "dataloader = DataLoader(dataset, batch_size=1, shuffle=True)\n",
    "for sample in dataloader:\n",
    "    music_sample = sample['music slice'].squeeze(0)\n",
    "    print(f\"Current track is {sample['track name'][0]}\")\n",
    "    break\n",
    "plt.figure(figsize=(25, 5))\n",
    "plt.plot(music_sample[0, ...].cpu().detach().numpy())\n",
    "plt.ylim((-1.1, 1.1))\n",
    "plt.show()\n",
    "torchaudio.save('sample.mp3', music_sample.cpu().detach(), 44100, format='mp3')\n",
    "IPython.display.Audio(filename=\"sample.mp3\")"
   ]
  },
  {
   "cell_type": "code",
   "execution_count": null,
   "metadata": {},
   "outputs": [],
   "source": [
    "mel_spec = mel_spec_new(music_sample[0, ...].to(device))\n",
    "plt.figure(figsize=(25, 5))\n",
    "plt.matshow(torch.log(eye_mat @ mel_spec).cpu().detach().numpy(), origin='lower', fignum=1, aspect='auto', vmin=-2, vmax=2)\n",
    "plt.colorbar()\n",
    "plt.show()"
   ]
  },
  {
   "attachments": {},
   "cell_type": "markdown",
   "metadata": {},
   "source": [
    "## Run the dataset sample through the Lvl1VQVAE"
   ]
  },
  {
   "cell_type": "code",
   "execution_count": null,
   "metadata": {},
   "outputs": [],
   "source": [
    "music_sample = music_sample.to(device)\n",
    "output = model(music_sample.unsqueeze(0))\n",
    "music_sample_rec = output['output'][0]\n",
    "plt.figure(figsize=(25, 5))\n",
    "plt.plot(music_sample_rec[0, ...].cpu().detach().numpy())\n",
    "plt.ylim((-1.1, 1.1))\n",
    "plt.show()\n",
    "torchaudio.save('sample_out.mp3', music_sample_rec.cpu().detach(), 44100, format='mp3')\n",
    "IPython.display.Audio(filename=\"sample_out.mp3\")"
   ]
  },
  {
   "cell_type": "code",
   "execution_count": null,
   "metadata": {},
   "outputs": [],
   "source": [
    "mel_spec = mel_spec_new(music_sample_rec[0, ...])\n",
    "plt.figure(figsize=(25, 5))\n",
    "plt.matshow(torch.log(eye_mat @ mel_spec).cpu().detach().numpy(), origin='lower', fignum=1, aspect='auto', vmin=-2, vmax=2)\n",
    "plt.colorbar()\n",
    "plt.show()"
   ]
  },
  {
   "attachments": {},
   "cell_type": "markdown",
   "metadata": {},
   "source": [
    "# Denoiser\n",
    "\n",
    "## Load model"
   ]
  },
  {
   "cell_type": "code",
   "execution_count": null,
   "metadata": {},
   "outputs": [],
   "source": [
    "from models.unet_denoiser import WaveUNet_Denoiser\n",
    "\n",
    "weights_path = 'model_weights/denoiser.ckpt'\n",
    "cfg_path = 'config/denoiser_config.yaml'\n",
    "with open(cfg_path, 'r') as f:\n",
    "    cfg_dict = yaml.safe_load(f)\n",
    "cfg_den = {**cfg_dict['model'], **cfg_dict['learning']}\n",
    "denoiser = WaveUNet_Denoiser(**cfg_den).to(device=device)\n",
    "# denoiser = denoiser.load_from_checkpoint(weights_path, **cfg_den, strict=False).to(device=device)\n",
    "denoiser.eval()"
   ]
  },
  {
   "attachments": {},
   "cell_type": "markdown",
   "metadata": {},
   "source": [
    "## Run the sample through the denoiser"
   ]
  },
  {
   "cell_type": "code",
   "execution_count": null,
   "metadata": {},
   "outputs": [],
   "source": [
    "music_sample_den = denoiser(music_sample.unsqueeze(0))['output'].squeeze(0)\n",
    "plt.figure(figsize=(25, 5))\n",
    "plt.plot(music_sample_den[0, ...].cpu().detach().numpy())\n",
    "plt.ylim((-1.1, 1.1))\n",
    "plt.show()\n",
    "torchaudio.save('sample_out.mp3', music_sample_den.cpu().detach(), 44100, format='mp3')\n",
    "IPython.display.Audio(filename=\"sample_out.mp3\")"
   ]
  },
  {
   "cell_type": "code",
   "execution_count": null,
   "metadata": {},
   "outputs": [],
   "source": [
    "mel_spec = mel_spec_new(music_sample_den[0, ...])\n",
    "plt.figure(figsize=(25, 5))\n",
    "plt.matshow(torch.tanh(eye_mat @ mel_spec).cpu().detach().numpy(), origin='lower', fignum=1, aspect='auto', vmin=0, vmax=1)\n",
    "plt.colorbar()\n",
    "plt.show()"
   ]
  },
  {
   "cell_type": "code",
   "execution_count": null,
   "metadata": {},
   "outputs": [],
   "source": [
    "mel_spec = mel_spec_new(torch.abs(music_sample_rec[0, ...] - music_sample_den[0, ...]))\n",
    "plt.figure(figsize=(25, 5))\n",
    "plt.matshow(torch.tanh(eye_mat @ mel_spec).cpu().detach().numpy(), origin='lower', fignum=1, aspect='auto', vmin=0, vmax=1)\n",
    "plt.colorbar()\n",
    "plt.show()"
   ]
  },
  {
   "attachments": {},
   "cell_type": "markdown",
   "metadata": {},
   "source": [
    "# Diffusion Denoiser\n",
    "\n",
    "## Load model"
   ]
  },
  {
   "cell_type": "code",
   "execution_count": null,
   "metadata": {},
   "outputs": [],
   "source": [
    "from models.diffusion_vit import DiffusionViT\n",
    "\n",
    "weights_path = 'model_weights/denoiser_diff.ckpt'\n",
    "cfg_path = 'config/denoiser_diff_config.yaml'\n",
    "with open(cfg_path, \"r\") as f:\n",
    "    cfg_dict = yaml.safe_load(f)\n",
    "cfg_den = {**cfg_dict['model'], **cfg_dict['learning']}\n",
    "denoiser = DiffusionViT(**cfg_den)\n",
    "denoiser = denoiser.load_from_checkpoint(weights_path, **cfg_den, strict=False).to(device=device).eval()\n",
    "denoiser.eval()"
   ]
  },
  {
   "attachments": {},
   "cell_type": "markdown",
   "metadata": {},
   "source": [
    "## Run a sample through the denoiser"
   ]
  },
  {
   "cell_type": "code",
   "execution_count": null,
   "metadata": {},
   "outputs": [],
   "source": [
    "random_noise_start = torch.randn_like(music_sample_rec.unsqueeze(0))\n",
    "music_sample_den = denoiser.denoise(music_sample_rec.unsqueeze(0).to(device), show_process_plots=False).squeeze(0)\n",
    "plt.figure(figsize=(25, 5))\n",
    "plt.plot(music_sample_den[0, ...].cpu().detach().numpy())\n",
    "plt.ylim((-1.1, 1.1))\n",
    "plt.show()\n",
    "torchaudio.save('sample_out.mp3', music_sample_den.cpu().detach(), 44100, format='mp3')\n",
    "IPython.display.Audio(filename=\"sample_out.mp3\")"
   ]
  },
  {
   "cell_type": "code",
   "execution_count": null,
   "metadata": {},
   "outputs": [],
   "source": [
    "mel_spec = mel_spec_new(music_sample_den[0, ...])\n",
    "plt.figure(figsize=(25, 5))\n",
    "plt.matshow(torch.tanh(eye_mat @ mel_spec).cpu().detach().numpy(), origin='lower', fignum=1, aspect='auto', vmin=0, vmax=1)\n",
    "plt.colorbar()\n",
    "plt.show()"
   ]
  }
 ],
 "metadata": {
  "kernelspec": {
   "display_name": "IDHF",
   "language": "python",
   "name": "python3"
  },
  "language_info": {
   "codemirror_mode": {
    "name": "ipython",
    "version": 3
   },
   "file_extension": ".py",
   "mimetype": "text/x-python",
   "name": "python",
   "nbconvert_exporter": "python",
   "pygments_lexer": "ipython3",
   "version": "3.9.16"
  },
  "orig_nbformat": 4,
  "vscode": {
   "interpreter": {
    "hash": "3e3d16b6134dad0a13017242915c77c5257566eeb2f9ce474651e437cc7a56aa"
   }
  }
 },
 "nbformat": 4,
 "nbformat_minor": 2
}
